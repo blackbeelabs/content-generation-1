{
 "cells": [
  {
   "cell_type": "code",
   "execution_count": 1,
   "id": "7e4cca26",
   "metadata": {},
   "outputs": [],
   "source": [
    "import json\n",
    "from os import path\n",
    "import instructor\n",
    "from anthropic import Anthropic\n",
    "from pydantic import BaseModel\n",
    "from typing import Literal\n",
    "\n",
    "def get_json_file(file_path: str) -> dict:\n",
    "    try:\n",
    "        with open(file_path, 'r') as file:\n",
    "            return json.load(file)\n",
    "    except FileNotFoundError:\n",
    "        raise FileNotFoundError(f\"The file {file_path} was not found\")\n",
    "    except json.JSONDecodeError:\n",
    "        raise json.JSONDecodeError(f\"The file {file_path} is not valid JSON\")\n",
    "\n",
    "def _get_project_dir_folder():\n",
    "    return path.dirname(path.abspath(\".\"))"
   ]
  },
  {
   "cell_type": "code",
   "execution_count": 2,
   "id": "2546fda5",
   "metadata": {},
   "outputs": [],
   "source": [
    "config_fp = path.join(_get_project_dir_folder(), \"assets\", \"config.json\")\n",
    "\"\"\"\n",
    "Returns\n",
    "    {\"k\" : \"claude-api-key\"}\n",
    "\"\"\"\n",
    "config = get_json_file(config_fp)"
   ]
  },
  {
   "cell_type": "code",
   "execution_count": 3,
   "id": "fb14971a",
   "metadata": {},
   "outputs": [],
   "source": [
    "class GeneratedReview(BaseModel):\n",
    "    review: str\n",
    "    sentiment: Literal[\"positive\", \"negative\"]\n",
    "\n",
    "class SentimentPrediction(BaseModel):\n",
    "    sentiment: Literal[\"positive\", \"negative\"]"
   ]
  },
  {
   "cell_type": "code",
   "execution_count": 4,
   "id": "2c42148b",
   "metadata": {},
   "outputs": [],
   "source": [
    "def generate_sample(client, input_review, sentiment):\n",
    "    return client.chat.completions.create(\n",
    "        model=\"claude-3-opus-20240229\",\n",
    "        response_model=GeneratedReview,\n",
    "        messages=[\n",
    "            {\n",
    "                \"role\": \"user\",\n",
    "                \"content\": f\"\"\"\n",
    "                           Generate a '{sentiment}' review similar to: {input_review}\n",
    "                           Generated review:\n",
    "                           \"\"\",\n",
    "            }\n",
    "        ],\n",
    "        max_tokens=1000\n",
    "        \n",
    "    )\n",
    "def predict_sentiment(client, input_review):\n",
    "    return client.chat.completions.create(\n",
    "        model=\"claude-3-opus-20240229\",\n",
    "        response_model=SentimentPrediction,\n",
    "        messages=[\n",
    "            {\n",
    "                \"role\": \"user\",\n",
    "                \"content\": f\"\"\"Identify the sentiment of the following review.\n",
    "                Review: {input_review}\n",
    "                Sentiment:\n",
    "                \"\"\",\n",
    "            }\n",
    "        ],\n",
    "        max_tokens=1000\n",
    "    )"
   ]
  },
  {
   "cell_type": "code",
   "execution_count": 5,
   "id": "7d588a9f",
   "metadata": {},
   "outputs": [],
   "source": [
    "client = instructor.from_anthropic(Anthropic(api_key=config.get(\"k\")))\n",
    "\n",
    "input_review = (\n",
    "    \"This movie was a rollercoaster of emotions, keeping me engaged throughout.\"\n",
    ")\n",
    "sentiment = 'positive'\n",
    "review = generate_sample(client, input_review, sentiment)"
   ]
  },
  {
   "cell_type": "code",
   "execution_count": 6,
   "id": "69e4c116",
   "metadata": {},
   "outputs": [
    {
     "data": {
      "text/plain": [
       "'This film was a captivating journey from start to finish, never letting up on the intensity and drawing me in with its intricate plot and masterful performances.'"
      ]
     },
     "execution_count": 6,
     "metadata": {},
     "output_type": "execute_result"
    }
   ],
   "source": [
    "review.review"
   ]
  },
  {
   "cell_type": "code",
   "execution_count": 7,
   "id": "fb8c9efc",
   "metadata": {},
   "outputs": [
    {
     "data": {
      "text/plain": [
       "'positive'"
      ]
     },
     "execution_count": 7,
     "metadata": {},
     "output_type": "execute_result"
    }
   ],
   "source": [
    "review.sentiment"
   ]
  },
  {
   "cell_type": "code",
   "execution_count": 8,
   "id": "029fec88",
   "metadata": {},
   "outputs": [],
   "source": [
    "output_sentiment = predict_sentiment(client, review.review)"
   ]
  },
  {
   "cell_type": "code",
   "execution_count": 9,
   "id": "d5fbba37",
   "metadata": {},
   "outputs": [
    {
     "data": {
      "text/plain": [
       "SentimentPrediction(sentiment='positive')"
      ]
     },
     "execution_count": 9,
     "metadata": {},
     "output_type": "execute_result"
    }
   ],
   "source": [
    "output_sentiment"
   ]
  },
  {
   "cell_type": "code",
   "execution_count": 10,
   "id": "ea3d656a",
   "metadata": {},
   "outputs": [
    {
     "data": {
      "text/plain": [
       "'positive'"
      ]
     },
     "execution_count": 10,
     "metadata": {},
     "output_type": "execute_result"
    }
   ],
   "source": [
    "output_sentiment.sentiment"
   ]
  }
 ],
 "metadata": {
  "kernelspec": {
   "display_name": "Python 3 (ipykernel)",
   "language": "python",
   "name": "python3"
  },
  "language_info": {
   "codemirror_mode": {
    "name": "ipython",
    "version": 3
   },
   "file_extension": ".py",
   "mimetype": "text/x-python",
   "name": "python",
   "nbconvert_exporter": "python",
   "pygments_lexer": "ipython3",
   "version": "3.11.1"
  }
 },
 "nbformat": 4,
 "nbformat_minor": 5
}
