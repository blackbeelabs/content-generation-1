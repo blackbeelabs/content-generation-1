{
 "cells": [
  {
   "cell_type": "code",
   "execution_count": 1,
   "id": "3b707c69",
   "metadata": {},
   "outputs": [],
   "source": [
    "import json"
   ]
  },
  {
   "cell_type": "code",
   "execution_count": 2,
   "id": "b1b57b80",
   "metadata": {},
   "outputs": [],
   "source": [
    "from os import path\n",
    "def _get_project_dir_folder():\n",
    "    return path.dirname(path.abspath(\".\"))\n"
   ]
  },
  {
   "cell_type": "code",
   "execution_count": 3,
   "id": "6cb83ac3",
   "metadata": {},
   "outputs": [],
   "source": [
    "def get_json_file(file_path: str) -> dict:\n",
    "    \"\"\"\n",
    "    Read and return the contents of a JSON file.\n",
    "    \n",
    "    Args:\n",
    "        file_path (str): Path to the JSON file\n",
    "        \n",
    "    Returns:\n",
    "        dict: Contents of the JSON file\n",
    "        \n",
    "    Raises:\n",
    "        FileNotFoundError: If the file doesn't exist\n",
    "        json.JSONDecodeError: If the file isn't valid JSON\n",
    "    \"\"\"\n",
    "    try:\n",
    "        with open(file_path, 'r') as file:\n",
    "            return json.load(file)\n",
    "    except FileNotFoundError:\n",
    "        raise FileNotFoundError(f\"The file {file_path} was not found\")\n",
    "    except json.JSONDecodeError:\n",
    "        raise json.JSONDecodeError(f\"The file {file_path} is not valid JSON\")"
   ]
  },
  {
   "cell_type": "code",
   "execution_count": 4,
   "id": "8f97e5fd",
   "metadata": {},
   "outputs": [],
   "source": [
    "from os import listdir\n",
    "food_dir = path.join(_get_project_dir_folder(), \"assets\", \"datasets\", \"menu\")\n",
    "lists_of_foods = [get_json_file(path.join(food_dir, f)) for f in listdir(food_dir)]\n",
    "foods = lists_of_foods[0]\n",
    "for l in lists_of_foods[1:]:\n",
    "    foods.update(l)"
   ]
  },
  {
   "cell_type": "code",
   "execution_count": 5,
   "id": "694f1cac",
   "metadata": {},
   "outputs": [
    {
     "name": "stdout",
     "output_type": "stream",
     "text": [
      "[{'name': 'Big Mac', 'short_description': 'Iconic double-decker burger with special sauce, lettuce, cheese, pickles, and onions on a sesame seed bun.', 'estimated_price': 89850}, {'name': 'Spicy Chicken Sandwich', 'short_description': 'Crispy breaded chicken breast filet with spicy seasoning, mayo, and pickles on a toasted bun.', 'estimated_price': 74850}, {'name': 'Fish Tacos', 'short_description': 'Battered fish strips with cabbage slaw, lime crema, and pico de gallo in soft corn tortillas.', 'estimated_price': 119850}, {'name': 'Double Cheeseburger', 'short_description': 'Two beef patties with melted American cheese, pickles, onions, and condiments on a plain bun.', 'estimated_price': 59850}]\n",
      "[{'name': 'Nasi Goreng', 'short_description': 'Iconic Indonesian fried rice with sweet soy sauce, served with fried egg, chicken, and prawn crackers.', 'estimated_price': 25000}, {'name': 'Rendang', 'short_description': \"Slow-cooked caramelized beef in coconut milk and spices, voted world's most delicious food.\", 'estimated_price': 45000}, {'name': 'Sate Ayam', 'short_description': 'Grilled chicken skewers served with rich peanut sauce, rice cake, and sweet soy sauce.', 'estimated_price': 30000}, {'name': 'Gado-gado', 'short_description': 'Mixed vegetables with tofu, tempeh, and egg, dressed in peanut sauce dressing.', 'estimated_price': 20000}]\n"
     ]
    }
   ],
   "source": [
    "print(foods.get(\"fast_foods\")[:4])\n",
    "print(foods.get(\"indonesian_foods\")[:4])"
   ]
  },
  {
   "cell_type": "code",
   "execution_count": 6,
   "id": "8648130f",
   "metadata": {},
   "outputs": [],
   "source": [
    "from pydantic import BaseModel\n",
    "\n",
    "class FoodItem(BaseModel):\n",
    "    name: str\n",
    "    price: int\n",
    "    description: str"
   ]
  },
  {
   "cell_type": "code",
   "execution_count": null,
   "id": "a1f7d53f",
   "metadata": {},
   "outputs": [],
   "source": []
  }
 ],
 "metadata": {
  "kernelspec": {
   "display_name": "Python 3 (ipykernel)",
   "language": "python",
   "name": "python3"
  },
  "language_info": {
   "codemirror_mode": {
    "name": "ipython",
    "version": 3
   },
   "file_extension": ".py",
   "mimetype": "text/x-python",
   "name": "python",
   "nbconvert_exporter": "python",
   "pygments_lexer": "ipython3",
   "version": "3.11.1"
  }
 },
 "nbformat": 4,
 "nbformat_minor": 5
}
