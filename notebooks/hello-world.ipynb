{
 "cells": [
  {
   "cell_type": "code",
   "execution_count": 1,
   "id": "35f83186",
   "metadata": {},
   "outputs": [],
   "source": [
    "import json\n",
    "from os import path\n",
    "\n",
    "def get_json_file(file_path: str) -> dict:\n",
    "    \"\"\"\n",
    "    Read and return the contents of a JSON file.\n",
    "    \n",
    "    Args:\n",
    "        file_path (str): Path to the JSON file\n",
    "        \n",
    "    Returns:\n",
    "        dict: Contents of the JSON file\n",
    "        \n",
    "    Raises:\n",
    "        FileNotFoundError: If the file doesn't exist\n",
    "        json.JSONDecodeError: If the file isn't valid JSON\n",
    "    \"\"\"\n",
    "    try:\n",
    "        with open(file_path, 'r') as file:\n",
    "            return json.load(file)\n",
    "    except FileNotFoundError:\n",
    "        raise FileNotFoundError(f\"The file {file_path} was not found\")\n",
    "    except json.JSONDecodeError:\n",
    "        raise json.JSONDecodeError(f\"The file {file_path} is not valid JSON\")\n",
    "\n"
   ]
  },
  {
   "cell_type": "code",
   "execution_count": 2,
   "id": "e9fb06ed",
   "metadata": {},
   "outputs": [],
   "source": [
    "def _get_project_dir_folder():\n",
    "    return path.dirname(path.abspath(\".\"))"
   ]
  },
  {
   "cell_type": "code",
   "execution_count": 7,
   "id": "637032ef",
   "metadata": {},
   "outputs": [
    {
     "data": {
      "text/plain": [
       "{}"
      ]
     },
     "execution_count": 7,
     "metadata": {},
     "output_type": "execute_result"
    }
   ],
   "source": [
    "config_fp = path.join(_get_project_dir_folder(), \"assets\", \"config.json\")\n",
    "\"\"\"\n",
    "Returns\n",
    "    {\"k\" : \"claude-api-key\"}\n",
    "\"\"\""
   ]
  },
  {
   "cell_type": "code",
   "execution_count": 4,
   "id": "4b66f186",
   "metadata": {},
   "outputs": [],
   "source": [
    "# Example usage:\n",
    "config = get_json_file(config_fp)"
   ]
  },
  {
   "cell_type": "code",
   "execution_count": 5,
   "id": "d7fcbe50",
   "metadata": {},
   "outputs": [],
   "source": [
    "import instructor\n",
    "from anthropic import Anthropic\n",
    "from pydantic import BaseModel\n",
    "\n",
    "\n",
    "class User(BaseModel):\n",
    "    name: str\n",
    "    age: int\n",
    "\n",
    "\n",
    "client = instructor.from_anthropic(Anthropic(api_key=config.get(\"k\")))\n",
    "\n",
    "# note that client.chat.completions.create will also work\n",
    "resp = client.messages.create(\n",
    "    model=\"claude-3-opus-20240229\",\n",
    "    max_tokens=1024,\n",
    "    messages=[\n",
    "        {\n",
    "            \"role\": \"user\",\n",
    "            \"content\": \"Extract Jason is 25 years old.\",\n",
    "        }\n",
    "    ],\n",
    "    response_model=User,\n",
    ")\n",
    "\n",
    "assert isinstance(resp, User)\n",
    "assert resp.name == \"Jason\"\n",
    "assert resp.age == 25"
   ]
  },
  {
   "cell_type": "code",
   "execution_count": 6,
   "id": "92f18ced",
   "metadata": {
    "scrolled": true
   },
   "outputs": [
    {
     "name": "stdout",
     "output_type": "stream",
     "text": [
      "name='Jason' age=25\n"
     ]
    }
   ],
   "source": [
    "print(resp)"
   ]
  },
  {
   "cell_type": "code",
   "execution_count": 8,
   "id": "51788f28",
   "metadata": {},
   "outputs": [
    {
     "name": "stdout",
     "output_type": "stream",
     "text": [
      "His name is Jason and his age is 25\n"
     ]
    }
   ],
   "source": [
    "print(f\"His name is {resp.name} and his age is {resp.age}\")"
   ]
  },
  {
   "cell_type": "code",
   "execution_count": null,
   "id": "cedb2555",
   "metadata": {},
   "outputs": [],
   "source": []
  }
 ],
 "metadata": {
  "kernelspec": {
   "display_name": "Python 3 (ipykernel)",
   "language": "python",
   "name": "python3"
  },
  "language_info": {
   "codemirror_mode": {
    "name": "ipython",
    "version": 3
   },
   "file_extension": ".py",
   "mimetype": "text/x-python",
   "name": "python",
   "nbconvert_exporter": "python",
   "pygments_lexer": "ipython3",
   "version": "3.11.1"
  }
 },
 "nbformat": 4,
 "nbformat_minor": 5
}
